{
 "cells": [
  {
   "cell_type": "markdown",
   "id": "5701a9da-fb62-41f5-a1e0-396494a7d00e",
   "metadata": {},
   "source": [
    "# Data Science Tools and Ecosystems"
   ]
  },
  {
   "cell_type": "markdown",
   "id": "6f1999d9-5b83-41f9-bc81-1349d49fe450",
   "metadata": {},
   "source": [
    "In this notebook, Data Science Tools and Ecosystems are summarized"
   ]
  },
  {
   "cell_type": "markdown",
   "id": "3295699b-9278-4895-9eb6-584ed23123ab",
   "metadata": {},
   "source": [
    "**Objectives**\n",
    "* list popular languges for data science\n",
    "* list commonly used libraries in data science\n",
    "* show some basic arithmetic  "
   ]
  },
  {
   "cell_type": "markdown",
   "id": "7f3a08d9-31ce-465e-98e9-564c00020faf",
   "metadata": {},
   "source": [
    "Some of the popular languages that Data Scientists use are:\n",
    "1. Python\n",
    "2. R\n",
    "3. SQL\n",
    "4. Java\n",
    "5. Scala"
   ]
  },
  {
   "cell_type": "markdown",
   "id": "73b3d0c3-69c5-4ed8-ac21-1215909ab31f",
   "metadata": {},
   "source": [
    "Some of the commonly used libraries used by Data Scientists include:\n",
    "\n",
    "1. Pandas\n",
    "2. Matplotlib\n",
    "3. NumPy\n",
    "4. Seaborn"
   ]
  },
  {
   "cell_type": "markdown",
   "id": "47e3ce31-82f0-40ba-8949-935090bc0b4a",
   "metadata": {},
   "source": [
    "| Data Science Tools |\n",
    "|--------------------|\n",
    "|      MySQL         |\n",
    "|    PostgreSQL      |\n",
    "|     MongoDB        |"
   ]
  },
  {
   "cell_type": "markdown",
   "id": "b26cebf8-fd34-437b-8812-3812e2c0f6a8",
   "metadata": {},
   "source": [
    "### Below are a few examples of evaluating arithmetic expressions in Python"
   ]
  },
  {
   "cell_type": "code",
   "execution_count": 13,
   "id": "2111e965-483b-4001-84a0-3347d0c57d9f",
   "metadata": {},
   "outputs": [
    {
     "data": {
      "text/plain": [
       "17"
      ]
     },
     "execution_count": 13,
     "metadata": {},
     "output_type": "execute_result"
    }
   ],
   "source": [
    "# This is a simple arithmetic expression to mutiply then add integers\n",
    "\n",
    "(3*4)+5"
   ]
  },
  {
   "cell_type": "code",
   "execution_count": 12,
   "id": "a715aefa-76f4-49f3-8581-db238355a920",
   "metadata": {},
   "outputs": [
    {
     "data": {
      "text/plain": [
       "3.3333333333333335"
      ]
     },
     "execution_count": 12,
     "metadata": {},
     "output_type": "execute_result"
    }
   ],
   "source": [
    "# This will convert 200 minutes into hours by diving by 60\n",
    "\n",
    "200/60"
   ]
  },
  {
   "cell_type": "markdown",
   "id": "74c0a6c7-61d8-4a83-bbe9-276473c69404",
   "metadata": {},
   "source": [
    "## Author\n",
    "Jason Mistretta"
   ]
  },
  {
   "cell_type": "code",
   "execution_count": null,
   "id": "0610f9c3-6e71-4f45-acf6-62e481ce3cd4",
   "metadata": {},
   "outputs": [],
   "source": []
  }
 ],
 "metadata": {
  "kernelspec": {
   "display_name": "Python 3 (ipykernel)",
   "language": "python",
   "name": "python3"
  },
  "language_info": {
   "codemirror_mode": {
    "name": "ipython",
    "version": 3
   },
   "file_extension": ".py",
   "mimetype": "text/x-python",
   "name": "python",
   "nbconvert_exporter": "python",
   "pygments_lexer": "ipython3",
   "version": "3.12.8"
  }
 },
 "nbformat": 4,
 "nbformat_minor": 5
}
